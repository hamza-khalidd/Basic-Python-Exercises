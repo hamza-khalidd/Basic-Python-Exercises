{
 "cells": [
  {
   "cell_type": "markdown",
   "metadata": {},
   "source": [
    "### User Input is a Odd Number Or Not"
   ]
  },
  {
   "cell_type": "code",
   "execution_count": 15,
   "metadata": {},
   "outputs": [
    {
     "name": "stdout",
     "output_type": "stream",
     "text": [
      "Enter Number To Check 4\n",
      "4  Is Not An Odd Number\n"
     ]
    }
   ],
   "source": [
    "inputNumber = int(input('Enter Number To Check '))\n",
    "\n",
    "if inputNumber % 2 != 0:\n",
    "    print(inputNumber,' Is An Odd Number')\n",
    "    \n",
    "else:\n",
    "    print(inputNumber,' Is Not An Odd Number')"
   ]
  },
  {
   "cell_type": "code",
   "execution_count": 16,
   "metadata": {},
   "outputs": [
    {
     "name": "stdout",
     "output_type": "stream",
     "text": [
      "Enter Number To Check 77\n",
      "77  Is An Odd Number\n"
     ]
    }
   ],
   "source": [
    "inputNumber = int(input('Enter Number To Check '))\n",
    "\n",
    "if inputNumber % 2 != 0:\n",
    "    print(inputNumber,' Is An Odd Number')\n",
    "    \n",
    "else:\n",
    "    print(inputNumber,' Is Not An Odd Number')"
   ]
  },
  {
   "cell_type": "markdown",
   "metadata": {},
   "source": [
    "### Finding Odd Numbers From A List and Print Them"
   ]
  },
  {
   "cell_type": "code",
   "execution_count": 7,
   "metadata": {},
   "outputs": [],
   "source": [
    "numbersList = [1,2,3,4,5,6,7,8]"
   ]
  },
  {
   "cell_type": "code",
   "execution_count": 17,
   "metadata": {},
   "outputs": [
    {
     "name": "stdout",
     "output_type": "stream",
     "text": [
      "1  - Odd Number\n",
      "2  - Not An Odd Number\n",
      "3  - Odd Number\n",
      "4  - Not An Odd Number\n",
      "5  - Odd Number\n",
      "6  - Not An Odd Number\n",
      "7  - Odd Number\n",
      "8  - Not An Odd Number\n"
     ]
    }
   ],
   "source": [
    "for val in numbersList:\n",
    "    if val %2 != 0:\n",
    "        print(val,' - Odd Number')\n",
    "    else:\n",
    "        print(val,' - Not An Odd Number')"
   ]
  },
  {
   "cell_type": "code",
   "execution_count": 18,
   "metadata": {},
   "outputs": [
    {
     "name": "stdout",
     "output_type": "stream",
     "text": [
      "1  - Odd Number\n",
      "3  - Odd Number\n",
      "5  - Odd Number\n",
      "7  - Odd Number\n"
     ]
    }
   ],
   "source": [
    "for val in numbersList:\n",
    "    if val %2 != 0:\n",
    "        print(val,' - Odd Number')"
   ]
  },
  {
   "cell_type": "markdown",
   "metadata": {},
   "source": [
    "### Finding Odd Numbers From A List & Placing Them Into Another List"
   ]
  },
  {
   "cell_type": "code",
   "execution_count": 19,
   "metadata": {},
   "outputs": [],
   "source": [
    "listOfNumbers = [22,33,44,55,66,77,88,99,102,113,124]\n",
    "listOfOddNum = []"
   ]
  },
  {
   "cell_type": "code",
   "execution_count": 20,
   "metadata": {},
   "outputs": [],
   "source": [
    "for val in listOfNumbers:\n",
    "    if val % 2 != 0:\n",
    "        listOfOddNum.append(val)"
   ]
  },
  {
   "cell_type": "code",
   "execution_count": 21,
   "metadata": {},
   "outputs": [
    {
     "data": {
      "text/plain": [
       "[33, 55, 77, 99, 113]"
      ]
     },
     "execution_count": 21,
     "metadata": {},
     "output_type": "execute_result"
    }
   ],
   "source": [
    "listOfOddNum"
   ]
  },
  {
   "cell_type": "markdown",
   "metadata": {},
   "source": [
    "### Finding The Sum Of All Odd Numbers In A List"
   ]
  },
  {
   "cell_type": "code",
   "execution_count": 22,
   "metadata": {},
   "outputs": [
    {
     "name": "stdout",
     "output_type": "stream",
     "text": [
      "Sum Of All Odd Numbers Is:  377\n"
     ]
    }
   ],
   "source": [
    "sum = 0\n",
    "listOfNumbers = [22,33,44,55,66,77,88,99,102,113,124]\n",
    "for val in listOfNumbers:\n",
    "    if val % 2 != 0:\n",
    "        sum = sum + val\n",
    "\n",
    "print('Sum Of All Odd Numbers Is: ',sum)"
   ]
  },
  {
   "cell_type": "code",
   "execution_count": null,
   "metadata": {},
   "outputs": [],
   "source": []
  }
 ],
 "metadata": {
  "kernelspec": {
   "display_name": "Python 3",
   "language": "python",
   "name": "python3"
  },
  "language_info": {
   "codemirror_mode": {
    "name": "ipython",
    "version": 3
   },
   "file_extension": ".py",
   "mimetype": "text/x-python",
   "name": "python",
   "nbconvert_exporter": "python",
   "pygments_lexer": "ipython3",
   "version": "3.7.6"
  }
 },
 "nbformat": 4,
 "nbformat_minor": 4
}
