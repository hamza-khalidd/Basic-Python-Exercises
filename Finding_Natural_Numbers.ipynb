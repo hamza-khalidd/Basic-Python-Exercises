{
 "cells": [
  {
   "cell_type": "markdown",
   "metadata": {},
   "source": [
    "### User Input is a Natural Number Or Not#"
   ]
  },
  {
   "cell_type": "code",
   "execution_count": 4,
   "metadata": {},
   "outputs": [
    {
     "name": "stdout",
     "output_type": "stream",
     "text": [
      "Enter Number To Check 3\n",
      "3  Is Not A Natural Number\n"
     ]
    }
   ],
   "source": [
    "inputNumber = int(input('Enter Number To Check '))\n",
    "\n",
    "if inputNumber % 2 == 0:\n",
    "    print(inputNumber,' Is A Natural Number')\n",
    "    \n",
    "else:\n",
    "    print(inputNumber,' Is Not A Natural Number')"
   ]
  },
  {
   "cell_type": "code",
   "execution_count": 5,
   "metadata": {},
   "outputs": [
    {
     "name": "stdout",
     "output_type": "stream",
     "text": [
      "Enter Number To Check 4\n",
      "4  Is A Natural Number\n"
     ]
    }
   ],
   "source": [
    "inputNumber = int(input('Enter Number To Check '))\n",
    "\n",
    "if inputNumber % 2 == 0:\n",
    "    print(inputNumber,' Is A Natural Number')\n",
    "    \n",
    "else:\n",
    "    print(inputNumber,' Is Not A Natural Number')"
   ]
  },
  {
   "cell_type": "markdown",
   "metadata": {},
   "source": [
    "### Finding Natural Numbers From A List and Print Them"
   ]
  },
  {
   "cell_type": "code",
   "execution_count": 7,
   "metadata": {},
   "outputs": [],
   "source": [
    "numbersList = [1,2,3,4,5,6,7,8]"
   ]
  },
  {
   "cell_type": "code",
   "execution_count": 8,
   "metadata": {},
   "outputs": [
    {
     "name": "stdout",
     "output_type": "stream",
     "text": [
      "1  - Not A Natural Number\n",
      "2  - Natural Number\n",
      "3  - Not A Natural Number\n",
      "4  - Natural Number\n",
      "5  - Not A Natural Number\n",
      "6  - Natural Number\n",
      "7  - Not A Natural Number\n",
      "8  - Natural Number\n"
     ]
    }
   ],
   "source": [
    "for val in numbersList:\n",
    "    if val %2 == 0:\n",
    "        print(val,' - Natural Number')\n",
    "    else:\n",
    "        print(val,' - Not A Natural Number')"
   ]
  },
  {
   "cell_type": "code",
   "execution_count": 9,
   "metadata": {},
   "outputs": [
    {
     "name": "stdout",
     "output_type": "stream",
     "text": [
      "2  - Natural Number\n",
      "4  - Natural Number\n",
      "6  - Natural Number\n",
      "8  - Natural Number\n"
     ]
    }
   ],
   "source": [
    "for val in numbersList:\n",
    "    if val %2 == 0:\n",
    "        print(val,' - Natural Number')"
   ]
  },
  {
   "cell_type": "markdown",
   "metadata": {},
   "source": [
    "### Finding Natural Numbers From A List & Placing Them Into Another List"
   ]
  },
  {
   "cell_type": "code",
   "execution_count": 10,
   "metadata": {},
   "outputs": [],
   "source": [
    "listOfNumbers = [22,33,44,55,66,77,88,99,102,113,124]\n",
    "listOfNatNum = []"
   ]
  },
  {
   "cell_type": "code",
   "execution_count": 11,
   "metadata": {},
   "outputs": [],
   "source": [
    "for val in listOfNumbers:\n",
    "    if val % 2 == 0:\n",
    "        listOfNatNum.append(val)"
   ]
  },
  {
   "cell_type": "code",
   "execution_count": 12,
   "metadata": {},
   "outputs": [
    {
     "data": {
      "text/plain": [
       "[22, 44, 66, 88, 102, 124]"
      ]
     },
     "execution_count": 12,
     "metadata": {},
     "output_type": "execute_result"
    }
   ],
   "source": [
    "listOfNatNum"
   ]
  },
  {
   "cell_type": "markdown",
   "metadata": {},
   "source": [
    "### Finding The Sum Of All Natural Numbers In A List"
   ]
  },
  {
   "cell_type": "code",
   "execution_count": 13,
   "metadata": {},
   "outputs": [
    {
     "name": "stdout",
     "output_type": "stream",
     "text": [
      "Sum Of All Natural Numbers Is:  446\n"
     ]
    }
   ],
   "source": [
    "sum = 0\n",
    "listOfNumbers = [22,33,44,55,66,77,88,99,102,113,124]\n",
    "for val in listOfNumbers:\n",
    "    if val % 2 == 0:\n",
    "        sum = sum + val\n",
    "\n",
    "print('Sum Of All Natural Numbers Is: ',sum)"
   ]
  },
  {
   "cell_type": "code",
   "execution_count": null,
   "metadata": {},
   "outputs": [],
   "source": []
  }
 ],
 "metadata": {
  "kernelspec": {
   "display_name": "Python 3",
   "language": "python",
   "name": "python3"
  },
  "language_info": {
   "codemirror_mode": {
    "name": "ipython",
    "version": 3
   },
   "file_extension": ".py",
   "mimetype": "text/x-python",
   "name": "python",
   "nbconvert_exporter": "python",
   "pygments_lexer": "ipython3",
   "version": "3.7.6"
  }
 },
 "nbformat": 4,
 "nbformat_minor": 4
}
